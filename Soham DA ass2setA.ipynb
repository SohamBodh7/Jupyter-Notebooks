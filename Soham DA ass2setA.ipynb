{
 "cells": [
  {
   "cell_type": "code",
   "execution_count": 103,
   "id": "22514728",
   "metadata": {},
   "outputs": [
    {
     "data": {
      "text/html": [
       "<div>\n",
       "<style scoped>\n",
       "    .dataframe tbody tr th:only-of-type {\n",
       "        vertical-align: middle;\n",
       "    }\n",
       "\n",
       "    .dataframe tbody tr th {\n",
       "        vertical-align: top;\n",
       "    }\n",
       "\n",
       "    .dataframe thead th {\n",
       "        text-align: right;\n",
       "    }\n",
       "</style>\n",
       "<table border=\"1\" class=\"dataframe\">\n",
       "  <thead>\n",
       "    <tr style=\"text-align: right;\">\n",
       "      <th></th>\n",
       "      <th>TID</th>\n",
       "      <th>Items</th>\n",
       "    </tr>\n",
       "  </thead>\n",
       "  <tbody>\n",
       "    <tr>\n",
       "      <th>0</th>\n",
       "      <td>1</td>\n",
       "      <td>[Bread, Milk]</td>\n",
       "    </tr>\n",
       "    <tr>\n",
       "      <th>1</th>\n",
       "      <td>2</td>\n",
       "      <td>[Bread, Diaper, Beer, Eggs]</td>\n",
       "    </tr>\n",
       "    <tr>\n",
       "      <th>2</th>\n",
       "      <td>3</td>\n",
       "      <td>[Milk, Diaper, Beer, Coke]</td>\n",
       "    </tr>\n",
       "    <tr>\n",
       "      <th>3</th>\n",
       "      <td>4</td>\n",
       "      <td>[Bread, Milk, Diaper, Beer]</td>\n",
       "    </tr>\n",
       "    <tr>\n",
       "      <th>4</th>\n",
       "      <td>5</td>\n",
       "      <td>[Bread, Milk, Diaper, Coke]</td>\n",
       "    </tr>\n",
       "  </tbody>\n",
       "</table>\n",
       "</div>"
      ],
      "text/plain": [
       "   TID                        Items\n",
       "0    1                [Bread, Milk]\n",
       "1    2  [Bread, Diaper, Beer, Eggs]\n",
       "2    3   [Milk, Diaper, Beer, Coke]\n",
       "3    4  [Bread, Milk, Diaper, Beer]\n",
       "4    5  [Bread, Milk, Diaper, Coke]"
      ]
     },
     "execution_count": 103,
     "metadata": {},
     "output_type": "execute_result"
    }
   ],
   "source": [
    "##Assignment 2 Set A\n",
    "\n",
    "\n",
    "##!pip install mlxtend\n",
    "import pandas as pd\n",
    "from mlxtend.preprocessing import TransactionEncoder\n",
    "from mlxtend.frequent_patterns import apriori, association_rules\n",
    "\n",
    "items =[[1, ['Bread', 'Milk']],\n",
    "    [2, ['Bread', 'Diaper', 'Beer', 'Eggs']],\n",
    "    [3, ['Milk', 'Diaper', 'Beer', 'Coke']],\n",
    "    [4, ['Bread', 'Milk', 'Diaper', 'Beer']],\n",
    "    [5, ['Bread', 'Milk', 'Diaper', 'Coke']]\n",
    "]\n",
    "df = pd.DataFrame(items,columns = ['TID','Items'])\n",
    "df"
   ]
  },
  {
   "cell_type": "code",
   "execution_count": 104,
   "id": "8de6913a",
   "metadata": {},
   "outputs": [],
   "source": [
    "te = TransactionEncoder()\n",
    "col=df['Items']\n",
    "te_array = te.fit(col).transform(col)"
   ]
  },
  {
   "cell_type": "code",
   "execution_count": 105,
   "id": "85ef7ab7",
   "metadata": {},
   "outputs": [
    {
     "name": "stdout",
     "output_type": "stream",
     "text": [
      "Transformed DataFrame:\n"
     ]
    },
    {
     "data": {
      "text/html": [
       "<div>\n",
       "<style scoped>\n",
       "    .dataframe tbody tr th:only-of-type {\n",
       "        vertical-align: middle;\n",
       "    }\n",
       "\n",
       "    .dataframe tbody tr th {\n",
       "        vertical-align: top;\n",
       "    }\n",
       "\n",
       "    .dataframe thead th {\n",
       "        text-align: right;\n",
       "    }\n",
       "</style>\n",
       "<table border=\"1\" class=\"dataframe\">\n",
       "  <thead>\n",
       "    <tr style=\"text-align: right;\">\n",
       "      <th></th>\n",
       "      <th>Beer</th>\n",
       "      <th>Bread</th>\n",
       "      <th>Coke</th>\n",
       "      <th>Diaper</th>\n",
       "      <th>Eggs</th>\n",
       "      <th>Milk</th>\n",
       "    </tr>\n",
       "  </thead>\n",
       "  <tbody>\n",
       "    <tr>\n",
       "      <th>0</th>\n",
       "      <td>False</td>\n",
       "      <td>True</td>\n",
       "      <td>False</td>\n",
       "      <td>False</td>\n",
       "      <td>False</td>\n",
       "      <td>True</td>\n",
       "    </tr>\n",
       "    <tr>\n",
       "      <th>1</th>\n",
       "      <td>True</td>\n",
       "      <td>True</td>\n",
       "      <td>False</td>\n",
       "      <td>True</td>\n",
       "      <td>True</td>\n",
       "      <td>False</td>\n",
       "    </tr>\n",
       "    <tr>\n",
       "      <th>2</th>\n",
       "      <td>True</td>\n",
       "      <td>False</td>\n",
       "      <td>True</td>\n",
       "      <td>True</td>\n",
       "      <td>False</td>\n",
       "      <td>True</td>\n",
       "    </tr>\n",
       "    <tr>\n",
       "      <th>3</th>\n",
       "      <td>True</td>\n",
       "      <td>True</td>\n",
       "      <td>False</td>\n",
       "      <td>True</td>\n",
       "      <td>False</td>\n",
       "      <td>True</td>\n",
       "    </tr>\n",
       "    <tr>\n",
       "      <th>4</th>\n",
       "      <td>False</td>\n",
       "      <td>True</td>\n",
       "      <td>True</td>\n",
       "      <td>True</td>\n",
       "      <td>False</td>\n",
       "      <td>True</td>\n",
       "    </tr>\n",
       "  </tbody>\n",
       "</table>\n",
       "</div>"
      ],
      "text/plain": [
       "    Beer  Bread   Coke  Diaper   Eggs   Milk\n",
       "0  False   True  False   False  False   True\n",
       "1   True   True  False    True   True  False\n",
       "2   True  False   True    True  False   True\n",
       "3   True   True  False    True  False   True\n",
       "4  False   True   True    True  False   True"
      ]
     },
     "execution_count": 105,
     "metadata": {},
     "output_type": "execute_result"
    }
   ],
   "source": [
    "df1 = pd.DataFrame(te_array, columns = te.columns_)\n",
    "print(\"Transformed DataFrame:\")\n",
    "df1"
   ]
  },
  {
   "cell_type": "code",
   "execution_count": 106,
   "id": "da49c07d",
   "metadata": {
    "scrolled": true
   },
   "outputs": [
    {
     "name": "stdout",
     "output_type": "stream",
     "text": [
      "\n",
      "Frequent Itemsets:\n",
      "    support                     itemsets\n",
      "0       0.6                       (Beer)\n",
      "1       0.8                      (Bread)\n",
      "2       0.4                       (Coke)\n",
      "3       0.8                     (Diaper)\n",
      "4       0.2                       (Eggs)\n",
      "5       0.8                       (Milk)\n",
      "6       0.4                (Bread, Beer)\n",
      "7       0.2                 (Beer, Coke)\n",
      "8       0.6               (Beer, Diaper)\n",
      "9       0.2                 (Eggs, Beer)\n",
      "10      0.4                 (Beer, Milk)\n",
      "11      0.2                (Bread, Coke)\n",
      "12      0.6              (Bread, Diaper)\n",
      "13      0.2                (Bread, Eggs)\n",
      "14      0.6                (Bread, Milk)\n",
      "15      0.4               (Diaper, Coke)\n",
      "16      0.4                 (Coke, Milk)\n",
      "17      0.2               (Eggs, Diaper)\n",
      "18      0.6               (Diaper, Milk)\n",
      "19      0.4        (Bread, Beer, Diaper)\n",
      "20      0.2          (Bread, Beer, Eggs)\n",
      "21      0.2          (Bread, Beer, Milk)\n",
      "22      0.2         (Beer, Diaper, Coke)\n",
      "23      0.2           (Beer, Coke, Milk)\n",
      "24      0.2         (Eggs, Beer, Diaper)\n",
      "25      0.4         (Beer, Diaper, Milk)\n",
      "26      0.2        (Bread, Diaper, Coke)\n",
      "27      0.2          (Bread, Coke, Milk)\n",
      "28      0.2        (Bread, Diaper, Eggs)\n",
      "29      0.4        (Bread, Diaper, Milk)\n",
      "30      0.4         (Diaper, Coke, Milk)\n",
      "31      0.2  (Bread, Beer, Diaper, Eggs)\n",
      "32      0.2  (Bread, Beer, Diaper, Milk)\n",
      "33      0.2   (Beer, Diaper, Coke, Milk)\n",
      "34      0.2  (Bread, Diaper, Coke, Milk)\n"
     ]
    }
   ],
   "source": [
    "frequent_itemsets = apriori(df_transformed, min_support=0.2, use_colnames=True)\n",
    "print(\"\\nFrequent Itemsets:\")\n",
    "print(frequent_itemsets)"
   ]
  },
  {
   "cell_type": "code",
   "execution_count": 107,
   "id": "a9821323",
   "metadata": {
    "scrolled": true
   },
   "outputs": [],
   "source": [
    "rules = association_rules(freq_items, metric = 'support', min_threshold=0.05)"
   ]
  },
  {
   "cell_type": "code",
   "execution_count": 108,
   "id": "1e8adeb4",
   "metadata": {},
   "outputs": [
    {
     "name": "stdout",
     "output_type": "stream",
     "text": [
      "    antecedents   consequents  antecedent support  consequent support  \\\n",
      "0           (I)           (e)                 1.0                 1.0   \n",
      "1           (e)           (I)                 1.0                 1.0   \n",
      "2           (I)           (m)                 1.0                 1.0   \n",
      "3           (m)           (I)                 1.0                 1.0   \n",
      "4           (I)           (s)                 1.0                 1.0   \n",
      "..          ...           ...                 ...                 ...   \n",
      "175         (e)  (t, I, s, m)                 1.0                 1.0   \n",
      "176         (s)  (t, e, m, I)                 1.0                 1.0   \n",
      "177         (I)  (t, e, s, m)                 1.0                 1.0   \n",
      "178         (t)  (e, s, m, I)                 1.0                 1.0   \n",
      "179         (m)  (t, e, s, I)                 1.0                 1.0   \n",
      "\n",
      "     support  confidence  lift  leverage  conviction  zhangs_metric  \n",
      "0        1.0         1.0   1.0       0.0         inf            0.0  \n",
      "1        1.0         1.0   1.0       0.0         inf            0.0  \n",
      "2        1.0         1.0   1.0       0.0         inf            0.0  \n",
      "3        1.0         1.0   1.0       0.0         inf            0.0  \n",
      "4        1.0         1.0   1.0       0.0         inf            0.0  \n",
      "..       ...         ...   ...       ...         ...            ...  \n",
      "175      1.0         1.0   1.0       0.0         inf            0.0  \n",
      "176      1.0         1.0   1.0       0.0         inf            0.0  \n",
      "177      1.0         1.0   1.0       0.0         inf            0.0  \n",
      "178      1.0         1.0   1.0       0.0         inf            0.0  \n",
      "179      1.0         1.0   1.0       0.0         inf            0.0  \n",
      "\n",
      "[180 rows x 10 columns]\n"
     ]
    }
   ],
   "source": [
    "rules = rules.sort_values(['support','confidence'],ascending = [False,False])\n",
    "print(rules)"
   ]
  },
  {
   "cell_type": "code",
   "execution_count": null,
   "id": "4c4352fa",
   "metadata": {},
   "outputs": [],
   "source": []
  }
 ],
 "metadata": {
  "kernelspec": {
   "display_name": "Python 3 (ipykernel)",
   "language": "python",
   "name": "python3"
  },
  "language_info": {
   "codemirror_mode": {
    "name": "ipython",
    "version": 3
   },
   "file_extension": ".py",
   "mimetype": "text/x-python",
   "name": "python",
   "nbconvert_exporter": "python",
   "pygments_lexer": "ipython3",
   "version": "3.11.7"
  }
 },
 "nbformat": 4,
 "nbformat_minor": 5
}
