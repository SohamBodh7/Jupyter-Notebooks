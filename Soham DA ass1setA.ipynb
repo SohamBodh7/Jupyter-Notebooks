{
 "cells": [
  {
   "cell_type": "code",
   "execution_count": 1,
   "id": "85a4532c",
   "metadata": {},
   "outputs": [],
   "source": [
    "##Assignment 1 Set A1\n",
    "#QUESTION-1\n",
    "\n",
    "#importing all neccessary libraries\n",
    "import numpy as np\n",
    "import pandas as pd\n",
    "from sklearn.model_selection import train_test_split\n",
    "from sklearn.linear_model import *\n",
    "from sklearn.metrics import mean_squared_error\n",
    "import matplotlib.pyplot as plt"
   ]
  },
  {
   "cell_type": "code",
   "execution_count": 2,
   "id": "15ea850b",
   "metadata": {},
   "outputs": [],
   "source": [
    "#set a seed for reproducibility\n",
    "np.random.seed(42)\n",
    "\n",
    "#creating dataset\n",
    "data={\n",
    "    'id':np.arange(1,501),\n",
    "    'tv':np.random.rand(500)*100,\n",
    "    'radio':np.random.rand(500)*50,\n",
    "    'newspaper':np.random.rand(500)*20,\n",
    "    'sales':np.random.rand(500)*200,\n",
    "}\n",
    "\n",
    "sales_df=pd.DataFrame(data)"
   ]
  },
  {
   "cell_type": "code",
   "execution_count": 3,
   "id": "f9d829a6",
   "metadata": {},
   "outputs": [
    {
     "data": {
      "text/html": [
       "<div>\n",
       "<style scoped>\n",
       "    .dataframe tbody tr th:only-of-type {\n",
       "        vertical-align: middle;\n",
       "    }\n",
       "\n",
       "    .dataframe tbody tr th {\n",
       "        vertical-align: top;\n",
       "    }\n",
       "\n",
       "    .dataframe thead th {\n",
       "        text-align: right;\n",
       "    }\n",
       "</style>\n",
       "<table border=\"1\" class=\"dataframe\">\n",
       "  <thead>\n",
       "    <tr style=\"text-align: right;\">\n",
       "      <th></th>\n",
       "      <th>id</th>\n",
       "      <th>tv</th>\n",
       "      <th>radio</th>\n",
       "      <th>newspaper</th>\n",
       "      <th>sales</th>\n",
       "    </tr>\n",
       "  </thead>\n",
       "  <tbody>\n",
       "    <tr>\n",
       "      <th>0</th>\n",
       "      <td>1</td>\n",
       "      <td>37.454012</td>\n",
       "      <td>34.908086</td>\n",
       "      <td>3.702659</td>\n",
       "      <td>103.816357</td>\n",
       "    </tr>\n",
       "    <tr>\n",
       "      <th>1</th>\n",
       "      <td>2</td>\n",
       "      <td>95.071431</td>\n",
       "      <td>26.804818</td>\n",
       "      <td>10.838019</td>\n",
       "      <td>95.836376</td>\n",
       "    </tr>\n",
       "    <tr>\n",
       "      <th>2</th>\n",
       "      <td>3</td>\n",
       "      <td>73.199394</td>\n",
       "      <td>15.476381</td>\n",
       "      <td>17.458917</td>\n",
       "      <td>5.128413</td>\n",
       "    </tr>\n",
       "    <tr>\n",
       "      <th>3</th>\n",
       "      <td>4</td>\n",
       "      <td>59.865848</td>\n",
       "      <td>40.689751</td>\n",
       "      <td>14.644498</td>\n",
       "      <td>68.249566</td>\n",
       "    </tr>\n",
       "    <tr>\n",
       "      <th>4</th>\n",
       "      <td>5</td>\n",
       "      <td>15.601864</td>\n",
       "      <td>34.236559</td>\n",
       "      <td>16.131223</td>\n",
       "      <td>76.039124</td>\n",
       "    </tr>\n",
       "    <tr>\n",
       "      <th>...</th>\n",
       "      <td>...</td>\n",
       "      <td>...</td>\n",
       "      <td>...</td>\n",
       "      <td>...</td>\n",
       "      <td>...</td>\n",
       "    </tr>\n",
       "    <tr>\n",
       "      <th>495</th>\n",
       "      <td>496</td>\n",
       "      <td>35.335223</td>\n",
       "      <td>4.579104</td>\n",
       "      <td>13.364256</td>\n",
       "      <td>131.391031</td>\n",
       "    </tr>\n",
       "    <tr>\n",
       "      <th>496</th>\n",
       "      <td>497</td>\n",
       "      <td>58.365611</td>\n",
       "      <td>45.865679</td>\n",
       "      <td>12.389807</td>\n",
       "      <td>191.322924</td>\n",
       "    </tr>\n",
       "    <tr>\n",
       "      <th>497</th>\n",
       "      <td>498</td>\n",
       "      <td>7.773464</td>\n",
       "      <td>6.840932</td>\n",
       "      <td>9.269881</td>\n",
       "      <td>13.791603</td>\n",
       "    </tr>\n",
       "    <tr>\n",
       "      <th>498</th>\n",
       "      <td>499</td>\n",
       "      <td>97.439481</td>\n",
       "      <td>47.511868</td>\n",
       "      <td>7.595716</td>\n",
       "      <td>11.410944</td>\n",
       "    </tr>\n",
       "    <tr>\n",
       "      <th>499</th>\n",
       "      <td>500</td>\n",
       "      <td>98.621074</td>\n",
       "      <td>22.300289</td>\n",
       "      <td>17.266673</td>\n",
       "      <td>56.437415</td>\n",
       "    </tr>\n",
       "  </tbody>\n",
       "</table>\n",
       "<p>500 rows × 5 columns</p>\n",
       "</div>"
      ],
      "text/plain": [
       "      id         tv      radio  newspaper       sales\n",
       "0      1  37.454012  34.908086   3.702659  103.816357\n",
       "1      2  95.071431  26.804818  10.838019   95.836376\n",
       "2      3  73.199394  15.476381  17.458917    5.128413\n",
       "3      4  59.865848  40.689751  14.644498   68.249566\n",
       "4      5  15.601864  34.236559  16.131223   76.039124\n",
       "..   ...        ...        ...        ...         ...\n",
       "495  496  35.335223   4.579104  13.364256  131.391031\n",
       "496  497  58.365611  45.865679  12.389807  191.322924\n",
       "497  498   7.773464   6.840932   9.269881   13.791603\n",
       "498  499  97.439481  47.511868   7.595716   11.410944\n",
       "499  500  98.621074  22.300289  17.266673   56.437415\n",
       "\n",
       "[500 rows x 5 columns]"
      ]
     },
     "execution_count": 3,
     "metadata": {},
     "output_type": "execute_result"
    }
   ],
   "source": [
    "sales_df"
   ]
  },
  {
   "cell_type": "code",
   "execution_count": 4,
   "id": "dd8029df",
   "metadata": {},
   "outputs": [],
   "source": [
    "#here we segregate precitor variables(x) and target variables(y)\n",
    "\n",
    "X=sales_df[['tv','radio','newspaper']]\n",
    "Y=sales_df['sales']"
   ]
  },
  {
   "cell_type": "code",
   "execution_count": 5,
   "id": "7f2739c6",
   "metadata": {},
   "outputs": [
    {
     "data": {
      "text/html": [
       "<div>\n",
       "<style scoped>\n",
       "    .dataframe tbody tr th:only-of-type {\n",
       "        vertical-align: middle;\n",
       "    }\n",
       "\n",
       "    .dataframe tbody tr th {\n",
       "        vertical-align: top;\n",
       "    }\n",
       "\n",
       "    .dataframe thead th {\n",
       "        text-align: right;\n",
       "    }\n",
       "</style>\n",
       "<table border=\"1\" class=\"dataframe\">\n",
       "  <thead>\n",
       "    <tr style=\"text-align: right;\">\n",
       "      <th></th>\n",
       "      <th>tv</th>\n",
       "      <th>radio</th>\n",
       "      <th>newspaper</th>\n",
       "    </tr>\n",
       "  </thead>\n",
       "  <tbody>\n",
       "    <tr>\n",
       "      <th>0</th>\n",
       "      <td>37.454012</td>\n",
       "      <td>34.908086</td>\n",
       "      <td>3.702659</td>\n",
       "    </tr>\n",
       "    <tr>\n",
       "      <th>1</th>\n",
       "      <td>95.071431</td>\n",
       "      <td>26.804818</td>\n",
       "      <td>10.838019</td>\n",
       "    </tr>\n",
       "    <tr>\n",
       "      <th>2</th>\n",
       "      <td>73.199394</td>\n",
       "      <td>15.476381</td>\n",
       "      <td>17.458917</td>\n",
       "    </tr>\n",
       "    <tr>\n",
       "      <th>3</th>\n",
       "      <td>59.865848</td>\n",
       "      <td>40.689751</td>\n",
       "      <td>14.644498</td>\n",
       "    </tr>\n",
       "    <tr>\n",
       "      <th>4</th>\n",
       "      <td>15.601864</td>\n",
       "      <td>34.236559</td>\n",
       "      <td>16.131223</td>\n",
       "    </tr>\n",
       "    <tr>\n",
       "      <th>...</th>\n",
       "      <td>...</td>\n",
       "      <td>...</td>\n",
       "      <td>...</td>\n",
       "    </tr>\n",
       "    <tr>\n",
       "      <th>495</th>\n",
       "      <td>35.335223</td>\n",
       "      <td>4.579104</td>\n",
       "      <td>13.364256</td>\n",
       "    </tr>\n",
       "    <tr>\n",
       "      <th>496</th>\n",
       "      <td>58.365611</td>\n",
       "      <td>45.865679</td>\n",
       "      <td>12.389807</td>\n",
       "    </tr>\n",
       "    <tr>\n",
       "      <th>497</th>\n",
       "      <td>7.773464</td>\n",
       "      <td>6.840932</td>\n",
       "      <td>9.269881</td>\n",
       "    </tr>\n",
       "    <tr>\n",
       "      <th>498</th>\n",
       "      <td>97.439481</td>\n",
       "      <td>47.511868</td>\n",
       "      <td>7.595716</td>\n",
       "    </tr>\n",
       "    <tr>\n",
       "      <th>499</th>\n",
       "      <td>98.621074</td>\n",
       "      <td>22.300289</td>\n",
       "      <td>17.266673</td>\n",
       "    </tr>\n",
       "  </tbody>\n",
       "</table>\n",
       "<p>500 rows × 3 columns</p>\n",
       "</div>"
      ],
      "text/plain": [
       "            tv      radio  newspaper\n",
       "0    37.454012  34.908086   3.702659\n",
       "1    95.071431  26.804818  10.838019\n",
       "2    73.199394  15.476381  17.458917\n",
       "3    59.865848  40.689751  14.644498\n",
       "4    15.601864  34.236559  16.131223\n",
       "..         ...        ...        ...\n",
       "495  35.335223   4.579104  13.364256\n",
       "496  58.365611  45.865679  12.389807\n",
       "497   7.773464   6.840932   9.269881\n",
       "498  97.439481  47.511868   7.595716\n",
       "499  98.621074  22.300289  17.266673\n",
       "\n",
       "[500 rows x 3 columns]"
      ]
     },
     "execution_count": 5,
     "metadata": {},
     "output_type": "execute_result"
    }
   ],
   "source": [
    "X"
   ]
  },
  {
   "cell_type": "code",
   "execution_count": 6,
   "id": "0131e5d2",
   "metadata": {},
   "outputs": [
    {
     "data": {
      "text/plain": [
       "0      103.816357\n",
       "1       95.836376\n",
       "2        5.128413\n",
       "3       68.249566\n",
       "4       76.039124\n",
       "          ...    \n",
       "495    131.391031\n",
       "496    191.322924\n",
       "497     13.791603\n",
       "498     11.410944\n",
       "499     56.437415\n",
       "Name: sales, Length: 500, dtype: float64"
      ]
     },
     "execution_count": 6,
     "metadata": {},
     "output_type": "execute_result"
    }
   ],
   "source": [
    "Y"
   ]
  },
  {
   "cell_type": "code",
   "execution_count": 7,
   "id": "1884d1ae",
   "metadata": {},
   "outputs": [],
   "source": [
    "#split the dataset into training data(1.0-0.3=0.7=70% of the whole data) and testing data(test_size=0.3 = 30% of total data)\n",
    "X_train,X_test,Y_train,Y_test=train_test_split(X,Y,test_size=0.3,random_state=42);"
   ]
  },
  {
   "cell_type": "code",
   "execution_count": 8,
   "id": "adfdbc7d",
   "metadata": {},
   "outputs": [
    {
     "name": "stdout",
     "output_type": "stream",
     "text": [
      "Training Set size 350\n",
      "Testing Set size 150\n"
     ]
    }
   ],
   "source": [
    "print(\"Training Set size\",X_train.shape[0])\n",
    "print(\"Testing Set size\",X_test.shape[0])"
   ]
  },
  {
   "cell_type": "code",
   "execution_count": 10,
   "id": "6ea1db9f",
   "metadata": {},
   "outputs": [
    {
     "data": {
      "text/html": [
       "<style>#sk-container-id-2 {color: black;background-color: white;}#sk-container-id-2 pre{padding: 0;}#sk-container-id-2 div.sk-toggleable {background-color: white;}#sk-container-id-2 label.sk-toggleable__label {cursor: pointer;display: block;width: 100%;margin-bottom: 0;padding: 0.3em;box-sizing: border-box;text-align: center;}#sk-container-id-2 label.sk-toggleable__label-arrow:before {content: \"▸\";float: left;margin-right: 0.25em;color: #696969;}#sk-container-id-2 label.sk-toggleable__label-arrow:hover:before {color: black;}#sk-container-id-2 div.sk-estimator:hover label.sk-toggleable__label-arrow:before {color: black;}#sk-container-id-2 div.sk-toggleable__content {max-height: 0;max-width: 0;overflow: hidden;text-align: left;background-color: #f0f8ff;}#sk-container-id-2 div.sk-toggleable__content pre {margin: 0.2em;color: black;border-radius: 0.25em;background-color: #f0f8ff;}#sk-container-id-2 input.sk-toggleable__control:checked~div.sk-toggleable__content {max-height: 200px;max-width: 100%;overflow: auto;}#sk-container-id-2 input.sk-toggleable__control:checked~label.sk-toggleable__label-arrow:before {content: \"▾\";}#sk-container-id-2 div.sk-estimator input.sk-toggleable__control:checked~label.sk-toggleable__label {background-color: #d4ebff;}#sk-container-id-2 div.sk-label input.sk-toggleable__control:checked~label.sk-toggleable__label {background-color: #d4ebff;}#sk-container-id-2 input.sk-hidden--visually {border: 0;clip: rect(1px 1px 1px 1px);clip: rect(1px, 1px, 1px, 1px);height: 1px;margin: -1px;overflow: hidden;padding: 0;position: absolute;width: 1px;}#sk-container-id-2 div.sk-estimator {font-family: monospace;background-color: #f0f8ff;border: 1px dotted black;border-radius: 0.25em;box-sizing: border-box;margin-bottom: 0.5em;}#sk-container-id-2 div.sk-estimator:hover {background-color: #d4ebff;}#sk-container-id-2 div.sk-parallel-item::after {content: \"\";width: 100%;border-bottom: 1px solid gray;flex-grow: 1;}#sk-container-id-2 div.sk-label:hover label.sk-toggleable__label {background-color: #d4ebff;}#sk-container-id-2 div.sk-serial::before {content: \"\";position: absolute;border-left: 1px solid gray;box-sizing: border-box;top: 0;bottom: 0;left: 50%;z-index: 0;}#sk-container-id-2 div.sk-serial {display: flex;flex-direction: column;align-items: center;background-color: white;padding-right: 0.2em;padding-left: 0.2em;position: relative;}#sk-container-id-2 div.sk-item {position: relative;z-index: 1;}#sk-container-id-2 div.sk-parallel {display: flex;align-items: stretch;justify-content: center;background-color: white;position: relative;}#sk-container-id-2 div.sk-item::before, #sk-container-id-2 div.sk-parallel-item::before {content: \"\";position: absolute;border-left: 1px solid gray;box-sizing: border-box;top: 0;bottom: 0;left: 50%;z-index: -1;}#sk-container-id-2 div.sk-parallel-item {display: flex;flex-direction: column;z-index: 1;position: relative;background-color: white;}#sk-container-id-2 div.sk-parallel-item:first-child::after {align-self: flex-end;width: 50%;}#sk-container-id-2 div.sk-parallel-item:last-child::after {align-self: flex-start;width: 50%;}#sk-container-id-2 div.sk-parallel-item:only-child::after {width: 0;}#sk-container-id-2 div.sk-dashed-wrapped {border: 1px dashed gray;margin: 0 0.4em 0.5em 0.4em;box-sizing: border-box;padding-bottom: 0.4em;background-color: white;}#sk-container-id-2 div.sk-label label {font-family: monospace;font-weight: bold;display: inline-block;line-height: 1.2em;}#sk-container-id-2 div.sk-label-container {text-align: center;}#sk-container-id-2 div.sk-container {/* jupyter's `normalize.less` sets `[hidden] { display: none; }` but bootstrap.min.css set `[hidden] { display: none !important; }` so we also need the `!important` here to be able to override the default hidden behavior on the sphinx rendered scikit-learn.org. See: https://github.com/scikit-learn/scikit-learn/issues/21755 */display: inline-block !important;position: relative;}#sk-container-id-2 div.sk-text-repr-fallback {display: none;}</style><div id=\"sk-container-id-2\" class=\"sk-top-container\"><div class=\"sk-text-repr-fallback\"><pre>LinearRegression()</pre><b>In a Jupyter environment, please rerun this cell to show the HTML representation or trust the notebook. <br />On GitHub, the HTML representation is unable to render, please try loading this page with nbviewer.org.</b></div><div class=\"sk-container\" hidden><div class=\"sk-item\"><div class=\"sk-estimator sk-toggleable\"><input class=\"sk-toggleable__control sk-hidden--visually\" id=\"sk-estimator-id-2\" type=\"checkbox\" checked><label for=\"sk-estimator-id-2\" class=\"sk-toggleable__label sk-toggleable__label-arrow\">LinearRegression</label><div class=\"sk-toggleable__content\"><pre>LinearRegression()</pre></div></div></div></div></div>"
      ],
      "text/plain": [
       "LinearRegression()"
      ]
     },
     "execution_count": 10,
     "metadata": {},
     "output_type": "execute_result"
    }
   ],
   "source": [
    "#we build a simple linear regression model\n",
    "model=LinearRegression()\n",
    "\n",
    "#train the model on training set\n",
    "model.fit(X_train,Y_train)\n"
   ]
  },
  {
   "cell_type": "code",
   "execution_count": 10,
   "id": "0e4e1a48",
   "metadata": {},
   "outputs": [],
   "source": [
    "#make predictions on the testing set(Values of Y which is sales in this case are been predicted based on X-test data)\n",
    "Y_pred=model.predict(X_test)"
   ]
  },
  {
   "cell_type": "code",
   "execution_count": 11,
   "id": "e2f333d3",
   "metadata": {},
   "outputs": [
    {
     "data": {
      "text/plain": [
       "array([102.71146003, 104.56346563,  98.72201687,  98.28506425,\n",
       "       100.79165819, 101.38953581,  99.27367574,  99.74770347,\n",
       "       100.62784445, 102.87000752, 102.87089475, 100.86868721,\n",
       "       100.46688683,  99.3156585 ,  99.28173293, 100.04596794,\n",
       "        98.99504378, 103.96867531, 100.955953  , 102.37105294,\n",
       "       102.58390184, 102.71409053, 103.29149952,  96.55243342,\n",
       "       102.04027419, 101.78385666,  98.37993042, 102.5790886 ,\n",
       "        99.94060743,  97.58728853, 102.55785523, 104.94685974,\n",
       "        97.22686971, 100.70199439, 100.77764806,  97.05360645,\n",
       "        97.83247152, 103.23627584,  98.54313228,  99.57602139,\n",
       "       102.68333001, 101.12412847, 103.60820873, 100.8535526 ,\n",
       "       104.73757237,  99.69755661, 102.09040423, 101.86874748,\n",
       "        99.51597552, 100.13308942,  99.95720285, 102.09931099,\n",
       "       100.89976811, 101.48552872, 100.88771178, 103.52543757,\n",
       "        98.72312291, 100.88812013, 100.70655241, 101.39215904,\n",
       "       100.41020496,  99.43030099, 100.76809265, 102.30202877,\n",
       "        97.39933891, 100.58343705, 101.59644025, 100.16475714,\n",
       "       100.39230748, 103.01188141, 101.48316076, 101.64702614,\n",
       "       101.07184755,  98.39199903,  98.69648847, 101.53389278,\n",
       "        99.86289912, 103.8967115 ,  99.6158238 , 101.64357473,\n",
       "       103.09728956, 100.6548253 ,  99.59037319,  99.85368967,\n",
       "       102.08464331,  97.13852264,  99.87048656, 101.9336388 ,\n",
       "        97.83819482, 103.877358  , 102.97759218,  98.4551702 ,\n",
       "       100.73626746, 102.13112894, 103.32842961, 100.668623  ,\n",
       "       100.96309723, 103.72408152, 102.20069434,  97.22039962,\n",
       "       102.93929184,  98.85850631, 100.76010082, 100.49014661,\n",
       "        98.79187669,  97.50578933,  99.20832158, 101.3204077 ,\n",
       "       101.72995593, 100.68907757, 101.61098937, 103.0448942 ,\n",
       "        98.34391615, 102.64663376, 101.4688243 ,  99.95306997,\n",
       "       105.06124423,  99.80215346,  98.01193284,  98.83751335,\n",
       "       101.7622703 , 100.36094477, 103.02162457, 101.27290287,\n",
       "       102.8750496 , 102.15617299, 102.68747783, 102.81528496,\n",
       "       103.96456779,  99.90178218, 100.60661096, 101.59375752,\n",
       "        99.0731374 , 102.55197523, 101.32238652,  98.87291657,\n",
       "       103.69744982, 100.54368945, 101.94958543, 103.90104087,\n",
       "       100.01348568,  98.89614332, 101.80374921, 104.39350276,\n",
       "       101.07447657, 103.20291569, 100.03299616,  98.37509995,\n",
       "       102.2746468 , 101.88167499])"
      ]
     },
     "execution_count": 11,
     "metadata": {},
     "output_type": "execute_result"
    }
   ],
   "source": [
    "Y_pred"
   ]
  },
  {
   "cell_type": "code",
   "execution_count": 12,
   "id": "59fac3f0",
   "metadata": {},
   "outputs": [
    {
     "name": "stdout",
     "output_type": "stream",
     "text": [
      "Mean Sqaured Error: 2951.317404048336\n"
     ]
    }
   ],
   "source": [
    "#Evaluate the model\n",
    "\n",
    "#here we find error between predicted values(Y_pred) and original values(Y-test)\n",
    "mse=mean_squared_error(Y_test,Y_pred)\n",
    "print(\"Mean Sqaured Error:\",mse)"
   ]
  },
  {
   "cell_type": "code",
   "execution_count": 13,
   "id": "e17a58e8",
   "metadata": {},
   "outputs": [
    {
     "data": {
      "image/png": "[encoded data removed]",
      "text/plain": [
       "<Figure size 640x480 with 1 Axes>"
      ]
     },
     "metadata": {},
     "output_type": "display_data"
    }
   ],
   "source": [
    "plt.scatter(X_test['tv'],Y_test,color='blue',label=\"Actual Sales\")\n",
    "plt.plot(X_test['tv'],Y_pred,color='green',label=\"Regression Line\")\n",
    "plt.xlabel(\"TV Budget\")\n",
    "plt.ylabel(\"Sales\")\n",
    "plt.title(\"Simple linear regression model\")\n",
    "plt.legend()\n",
    "plt.show()"
   ]
  },
  {
   "cell_type": "code",
   "execution_count": 14,
   "id": "19bb1fe4",
   "metadata": {},
   "outputs": [],
   "source": [
    "#QUESTION-2\n",
    "\n",
    "#np.random.seed(42)\n",
    "\n",
    "realestate={\n",
    "    'id':np.arange(1,501),\n",
    "    'flat':np.random.randint(500,size=500),\n",
    "    'houses':np.random.randint(500,size=500),\n",
    "    'purchases':np.random.randint(500,size=500),\n",
    "}"
   ]
  },
  {
   "cell_type": "code",
   "execution_count": 15,
   "id": "2d77ba01",
   "metadata": {},
   "outputs": [],
   "source": [
    "realestatedata=pd.DataFrame(realestate)"
   ]
  },
  {
   "cell_type": "code",
   "execution_count": 16,
   "id": "277bdf71",
   "metadata": {},
   "outputs": [],
   "source": [
    "X=realestatedata[['flat','houses']]\n",
    "Y=realestatedata['purchases']"
   ]
  },
  {
   "cell_type": "code",
   "execution_count": 17,
   "id": "1c9f7cbc",
   "metadata": {},
   "outputs": [],
   "source": [
    "X_train,X_test,Y_train,Y_test=train_test_split(X,Y,test_size=0.5,random_state=0);"
   ]
  },
  {
   "cell_type": "code",
   "execution_count": 18,
   "id": "cfa63fce",
   "metadata": {},
   "outputs": [
    {
     "data": {
      "text/html": [
       "<div>\n",
       "<style scoped>\n",
       "    .dataframe tbody tr th:only-of-type {\n",
       "        vertical-align: middle;\n",
       "    }\n",
       "\n",
       "    .dataframe tbody tr th {\n",
       "        vertical-align: top;\n",
       "    }\n",
       "\n",
       "    .dataframe thead th {\n",
       "        text-align: right;\n",
       "    }\n",
       "</style>\n",
       "<table border=\"1\" class=\"dataframe\">\n",
       "  <thead>\n",
       "    <tr style=\"text-align: right;\">\n",
       "      <th></th>\n",
       "      <th>flat</th>\n",
       "      <th>houses</th>\n",
       "    </tr>\n",
       "  </thead>\n",
       "  <tbody>\n",
       "    <tr>\n",
       "      <th>0</th>\n",
       "      <td>219</td>\n",
       "      <td>75</td>\n",
       "    </tr>\n",
       "    <tr>\n",
       "      <th>1</th>\n",
       "      <td>390</td>\n",
       "      <td>173</td>\n",
       "    </tr>\n",
       "    <tr>\n",
       "      <th>2</th>\n",
       "      <td>162</td>\n",
       "      <td>46</td>\n",
       "    </tr>\n",
       "    <tr>\n",
       "      <th>3</th>\n",
       "      <td>438</td>\n",
       "      <td>14</td>\n",
       "    </tr>\n",
       "    <tr>\n",
       "      <th>4</th>\n",
       "      <td>219</td>\n",
       "      <td>360</td>\n",
       "    </tr>\n",
       "    <tr>\n",
       "      <th>...</th>\n",
       "      <td>...</td>\n",
       "      <td>...</td>\n",
       "    </tr>\n",
       "    <tr>\n",
       "      <th>495</th>\n",
       "      <td>342</td>\n",
       "      <td>430</td>\n",
       "    </tr>\n",
       "    <tr>\n",
       "      <th>496</th>\n",
       "      <td>430</td>\n",
       "      <td>493</td>\n",
       "    </tr>\n",
       "    <tr>\n",
       "      <th>497</th>\n",
       "      <td>423</td>\n",
       "      <td>188</td>\n",
       "    </tr>\n",
       "    <tr>\n",
       "      <th>498</th>\n",
       "      <td>331</td>\n",
       "      <td>286</td>\n",
       "    </tr>\n",
       "    <tr>\n",
       "      <th>499</th>\n",
       "      <td>437</td>\n",
       "      <td>207</td>\n",
       "    </tr>\n",
       "  </tbody>\n",
       "</table>\n",
       "<p>500 rows × 2 columns</p>\n",
       "</div>"
      ],
      "text/plain": [
       "     flat  houses\n",
       "0     219      75\n",
       "1     390     173\n",
       "2     162      46\n",
       "3     438      14\n",
       "4     219     360\n",
       "..    ...     ...\n",
       "495   342     430\n",
       "496   430     493\n",
       "497   423     188\n",
       "498   331     286\n",
       "499   437     207\n",
       "\n",
       "[500 rows x 2 columns]"
      ]
     },
     "execution_count": 18,
     "metadata": {},
     "output_type": "execute_result"
    }
   ],
   "source": [
    "X"
   ]
  },
  {
   "cell_type": "code",
   "execution_count": 19,
   "id": "10c37df1",
   "metadata": {},
   "outputs": [
    {
     "data": {
      "text/plain": [
       "0      113\n",
       "1      479\n",
       "2       21\n",
       "3      348\n",
       "4      213\n",
       "      ... \n",
       "495     60\n",
       "496    121\n",
       "497    276\n",
       "498     45\n",
       "499    452\n",
       "Name: purchases, Length: 500, dtype: int32"
      ]
     },
     "execution_count": 19,
     "metadata": {},
     "output_type": "execute_result"
    }
   ],
   "source": [
    "Y"
   ]
  },
  {
   "cell_type": "code",
   "execution_count": 20,
   "id": "00f21b52",
   "metadata": {},
   "outputs": [
    {
     "data": {
      "text/html": [
       "<style>#sk-container-id-2 {color: black;background-color: white;}#sk-container-id-2 pre{padding: 0;}#sk-container-id-2 div.sk-toggleable {background-color: white;}#sk-container-id-2 label.sk-toggleable__label {cursor: pointer;display: block;width: 100%;margin-bottom: 0;padding: 0.3em;box-sizing: border-box;text-align: center;}#sk-container-id-2 label.sk-toggleable__label-arrow:before {content: \"▸\";float: left;margin-right: 0.25em;color: #696969;}#sk-container-id-2 label.sk-toggleable__label-arrow:hover:before {color: black;}#sk-container-id-2 div.sk-estimator:hover label.sk-toggleable__label-arrow:before {color: black;}#sk-container-id-2 div.sk-toggleable__content {max-height: 0;max-width: 0;overflow: hidden;text-align: left;background-color: #f0f8ff;}#sk-container-id-2 div.sk-toggleable__content pre {margin: 0.2em;color: black;border-radius: 0.25em;background-color: #f0f8ff;}#sk-container-id-2 input.sk-toggleable__control:checked~div.sk-toggleable__content {max-height: 200px;max-width: 100%;overflow: auto;}#sk-container-id-2 input.sk-toggleable__control:checked~label.sk-toggleable__label-arrow:before {content: \"▾\";}#sk-container-id-2 div.sk-estimator input.sk-toggleable__control:checked~label.sk-toggleable__label {background-color: #d4ebff;}#sk-container-id-2 div.sk-label input.sk-toggleable__control:checked~label.sk-toggleable__label {background-color: #d4ebff;}#sk-container-id-2 input.sk-hidden--visually {border: 0;clip: rect(1px 1px 1px 1px);clip: rect(1px, 1px, 1px, 1px);height: 1px;margin: -1px;overflow: hidden;padding: 0;position: absolute;width: 1px;}#sk-container-id-2 div.sk-estimator {font-family: monospace;background-color: #f0f8ff;border: 1px dotted black;border-radius: 0.25em;box-sizing: border-box;margin-bottom: 0.5em;}#sk-container-id-2 div.sk-estimator:hover {background-color: #d4ebff;}#sk-container-id-2 div.sk-parallel-item::after {content: \"\";width: 100%;border-bottom: 1px solid gray;flex-grow: 1;}#sk-container-id-2 div.sk-label:hover label.sk-toggleable__label {background-color: #d4ebff;}#sk-container-id-2 div.sk-serial::before {content: \"\";position: absolute;border-left: 1px solid gray;box-sizing: border-box;top: 0;bottom: 0;left: 50%;z-index: 0;}#sk-container-id-2 div.sk-serial {display: flex;flex-direction: column;align-items: center;background-color: white;padding-right: 0.2em;padding-left: 0.2em;position: relative;}#sk-container-id-2 div.sk-item {position: relative;z-index: 1;}#sk-container-id-2 div.sk-parallel {display: flex;align-items: stretch;justify-content: center;background-color: white;position: relative;}#sk-container-id-2 div.sk-item::before, #sk-container-id-2 div.sk-parallel-item::before {content: \"\";position: absolute;border-left: 1px solid gray;box-sizing: border-box;top: 0;bottom: 0;left: 50%;z-index: -1;}#sk-container-id-2 div.sk-parallel-item {display: flex;flex-direction: column;z-index: 1;position: relative;background-color: white;}#sk-container-id-2 div.sk-parallel-item:first-child::after {align-self: flex-end;width: 50%;}#sk-container-id-2 div.sk-parallel-item:last-child::after {align-self: flex-start;width: 50%;}#sk-container-id-2 div.sk-parallel-item:only-child::after {width: 0;}#sk-container-id-2 div.sk-dashed-wrapped {border: 1px dashed gray;margin: 0 0.4em 0.5em 0.4em;box-sizing: border-box;padding-bottom: 0.4em;background-color: white;}#sk-container-id-2 div.sk-label label {font-family: monospace;font-weight: bold;display: inline-block;line-height: 1.2em;}#sk-container-id-2 div.sk-label-container {text-align: center;}#sk-container-id-2 div.sk-container {/* jupyter's `normalize.less` sets `[hidden] { display: none; }` but bootstrap.min.css set `[hidden] { display: none !important; }` so we also need the `!important` here to be able to override the default hidden behavior on the sphinx rendered scikit-learn.org. See: https://github.com/scikit-learn/scikit-learn/issues/21755 */display: inline-block !important;position: relative;}#sk-container-id-2 div.sk-text-repr-fallback {display: none;}</style><div id=\"sk-container-id-2\" class=\"sk-top-container\"><div class=\"sk-text-repr-fallback\"><pre>LinearRegression()</pre><b>In a Jupyter environment, please rerun this cell to show the HTML representation or trust the notebook. <br />On GitHub, the HTML representation is unable to render, please try loading this page with nbviewer.org.</b></div><div class=\"sk-container\" hidden><div class=\"sk-item\"><div class=\"sk-estimator sk-toggleable\"><input class=\"sk-toggleable__control sk-hidden--visually\" id=\"sk-estimator-id-2\" type=\"checkbox\" checked><label for=\"sk-estimator-id-2\" class=\"sk-toggleable__label sk-toggleable__label-arrow\">LinearRegression</label><div class=\"sk-toggleable__content\"><pre>LinearRegression()</pre></div></div></div></div></div>"
      ],
      "text/plain": [
       "LinearRegression()"
      ]
     },
     "execution_count": 20,
     "metadata": {},
     "output_type": "execute_result"
    }
   ],
   "source": [
    "model=LinearRegression()\n",
    "\n",
    "#train the model on training set\n",
    "model.fit(X_train,Y_train)"
   ]
  },
  {
   "cell_type": "code",
   "execution_count": 21,
   "id": "4e15c9e1",
   "metadata": {},
   "outputs": [],
   "source": [
    "Y_pred=model.predict(X_test)"
   ]
  },
  {
   "cell_type": "code",
   "execution_count": 22,
   "id": "9c5dd7cc",
   "metadata": {},
   "outputs": [
    {
     "data": {
      "text/plain": [
       "array([234.61378362, 238.81021466, 230.34037136, 246.86377055,\n",
       "       259.06544619, 260.14553052, 243.97046605, 232.92236975,\n",
       "       232.89095923, 257.26898989, 238.799861  , 258.70829557,\n",
       "       242.10611822, 259.46189418, 232.97983187, 231.34447926,\n",
       "       263.62819329, 239.92370448, 246.37438422, 254.89614732,\n",
       "       244.45985239, 236.74554153, 257.45722574, 237.37812597,\n",
       "       235.36758026, 252.13928112, 259.40048863, 248.21106693,\n",
       "       232.73941707, 265.9550691 , 249.1344482 , 232.64192657,\n",
       "       256.57105647, 261.74887851, 242.88042413, 256.45966496,\n",
       "       241.81437771, 266.01353602, 258.85997463, 251.9121586 ,\n",
       "       234.72176468, 233.99703403, 257.2610419 , 236.97299898,\n",
       "       234.97454273, 237.66298442, 263.74699983, 233.97110469,\n",
       "       237.46045149, 264.28296167, 233.96696323, 249.33544336,\n",
       "       256.56364145, 259.26811601, 244.49079108, 255.53614678,\n",
       "       236.48294278, 258.19451767, 258.15255546, 237.36556468,\n",
       "       239.57396889, 231.53210637, 259.18699332, 234.49978841,\n",
       "       250.07788156, 245.07833778, 251.32735249, 247.41136465,\n",
       "       230.68543252, 253.02197879, 248.10241601, 237.10316397,\n",
       "       234.52658564, 231.17188023, 250.54709355, 229.201957  ,\n",
       "       257.20411275, 243.51121164, 229.39520221, 255.9628636 ,\n",
       "       230.12922058, 241.15118951, 251.73882857, 256.06589643,\n",
       "       236.0812874 , 246.64193119, 236.68186721, 232.86617159,\n",
       "       231.8758278 , 239.23405398, 234.37977904, 257.58104164,\n",
       "       238.1119463 , 244.17112628, 240.32535987, 245.55616763,\n",
       "       259.99077593, 243.62694265, 250.10174016, 235.38996223,\n",
       "       258.87180492, 249.41863679, 233.50236453, 244.02725831,\n",
       "       258.52788545, 239.27788889, 257.89944247, 236.23383435,\n",
       "       232.1956295 , 258.56990879, 230.87666813, 235.56583483,\n",
       "       239.39529456, 242.61608959, 256.35736313, 248.56508088,\n",
       "       251.7384325 , 248.30514696, 242.56643856, 232.41841254,\n",
       "       228.43252355, 239.23813431, 256.42572651, 234.98657105,\n",
       "       250.86275379, 260.09481356, 255.20311393, 237.5781921 ,\n",
       "       254.5650483 , 252.90971938, 236.80534818, 249.13438707,\n",
       "       250.51061254, 264.44319745, 225.98837897, 248.09726975,\n",
       "       255.5473072 , 253.09975215, 252.25982346, 246.23493151,\n",
       "       237.22143755, 240.41717114, 257.18486744, 235.70696221,\n",
       "       232.91602066, 246.87546394, 253.88395452, 244.99167276,\n",
       "       255.65990155, 246.42803981, 235.07891529, 251.06775351,\n",
       "       238.51340366, 262.0730197 , 256.8472213 , 257.72323494,\n",
       "       237.93654554, 249.55327817, 263.2793256 , 249.11326907,\n",
       "       233.0856053 , 243.2719239 , 234.49103365, 258.59396543,\n",
       "       258.14005531, 256.78908931, 233.75046816, 249.43567446,\n",
       "       233.92687372, 230.51176756, 255.51209014, 248.84071274,\n",
       "       243.44625873, 263.91498557, 230.37959297, 239.54249723,\n",
       "       238.51600736, 252.0123897 , 236.28709388, 236.31568804,\n",
       "       255.90646741, 258.83124357, 260.55286513, 249.24276419,\n",
       "       242.73389133, 246.9251761 , 238.37762058, 251.07063101,\n",
       "       246.66892645, 250.11329664, 249.8961317 , 247.47825139,\n",
       "       265.50991374, 248.89783993, 246.83296876, 241.78598158,\n",
       "       239.82000179, 250.0947212 , 241.96773144, 248.48482609,\n",
       "       247.58729837, 256.82744302, 234.06979803, 237.8476729 ,\n",
       "       231.98528549, 259.72482786, 241.992854  , 230.58947979,\n",
       "       240.80813794, 259.84136563, 242.24216046, 250.34990492,\n",
       "       237.61694188, 239.04388431, 255.252232  , 253.21128057,\n",
       "       242.55127358, 254.40615225, 249.50149527, 234.80415133,\n",
       "       231.6598657 , 255.00326047, 237.6036496 , 266.49290364,\n",
       "       235.5856131 , 234.46624602, 232.95490734, 244.11786675,\n",
       "       259.57468656, 245.51627615, 260.86819044, 245.82245064,\n",
       "       238.14663039, 235.27677379, 252.02648874, 240.9864162 ,\n",
       "       237.68690415, 257.6052963 , 260.0351438 , 233.42411934,\n",
       "       247.92013319, 246.98772335, 236.41798987, 256.93021669,\n",
       "       244.15000827, 243.88934336, 247.17996376, 255.99640599,\n",
       "       259.43683275, 256.16959912])"
      ]
     },
     "execution_count": 22,
     "metadata": {},
     "output_type": "execute_result"
    }
   ],
   "source": [
    "Y_pred"
   ]
  },
  {
   "cell_type": "code",
   "execution_count": 23,
   "id": "3fc2915f",
   "metadata": {},
   "outputs": [
    {
     "name": "stdout",
     "output_type": "stream",
     "text": [
      "Mean Sqaured Error: 22959.496625078875\n"
     ]
    }
   ],
   "source": [
    "mse=mean_squared_error(Y_test,Y_pred)\n",
    "print(\"Mean Sqaured Error:\",mse)"
   ]
  },
  {
   "cell_type": "code",
   "execution_count": 24,
   "id": "c910fbe1",
   "metadata": {},
   "outputs": [
    {
     "data": {
      "image/png": "[encoded data removed]",
      "text/plain": [
       "<Figure size 640x480 with 1 Axes>"
      ]
     },
     "metadata": {},
     "output_type": "display_data"
    }
   ],
   "source": [
    "plt.scatter(X_test['flat'],Y_test,color='blue',label=\"Actual\")\n",
    "plt.plot(X_test['flat'],Y_pred,color='green',label=\"Regression\")\n",
    "plt.xlabel(\"Flat\")\n",
    "plt.ylabel(\"Purchases\")\n",
    "plt.title(\"Simple linear regression model\")\n",
    "plt.legend()\n",
    "plt.show()"
   ]
  },
  {
   "cell_type": "code",
   "execution_count": 25,
   "id": "c90f07cf",
   "metadata": {},
   "outputs": [],
   "source": [
    "userdata={\n",
    "    'id':np.arange(1,501),\n",
    "    'gender':np.random.randint(2,size=500),\n",
    "    'age':np.random.randint(10,80,size=500),\n",
    "    'salary':np.random.randint(100000,5000000,size=500),\n",
    "    'purchased':np.random.randint(2,size=500),\n",
    "}"
   ]
  },
  {
   "cell_type": "code",
   "execution_count": 26,
   "id": "9a73e9f1",
   "metadata": {},
   "outputs": [
    {
     "data": {
      "text/plain": [
       "{'id': array([  1,   2,   3,   4,   5,   6,   7,   8,   9,  10,  11,  12,  13,\n",
       "         14,  15,  16,  17,  18,  19,  20,  21,  22,  23,  24,  25,  26,\n",
       "         27,  28,  29,  30,  31,  32,  33,  34,  35,  36,  37,  38,  39,\n",
       "         40,  41,  42,  43,  44,  45,  46,  47,  48,  49,  50,  51,  52,\n",
       "         53,  54,  55,  56,  57,  58,  59,  60,  61,  62,  63,  64,  65,\n",
       "         66,  67,  68,  69,  70,  71,  72,  73,  74,  75,  76,  77,  78,\n",
       "         79,  80,  81,  82,  83,  84,  85,  86,  87,  88,  89,  90,  91,\n",
       "         92,  93,  94,  95,  96,  97,  98,  99, 100, 101, 102, 103, 104,\n",
       "        105, 106, 107, 108, 109, 110, 111, 112, 113, 114, 115, 116, 117,\n",
       "        118, 119, 120, 121, 122, 123, 124, 125, 126, 127, 128, 129, 130,\n",
       "        131, 132, 133, 134, 135, 136, 137, 138, 139, 140, 141, 142, 143,\n",
       "        144, 145, 146, 147, 148, 149, 150, 151, 152, 153, 154, 155, 156,\n",
       "        157, 158, 159, 160, 161, 162, 163, 164, 165, 166, 167, 168, 169,\n",
       "        170, 171, 172, 173, 174, 175, 176, 177, 178, 179, 180, 181, 182,\n",
       "        183, 184, 185, 186, 187, 188, 189, 190, 191, 192, 193, 194, 195,\n",
       "        196, 197, 198, 199, 200, 201, 202, 203, 204, 205, 206, 207, 208,\n",
       "        209, 210, 211, 212, 213, 214, 215, 216, 217, 218, 219, 220, 221,\n",
       "        222, 223, 224, 225, 226, 227, 228, 229, 230, 231, 232, 233, 234,\n",
       "        235, 236, 237, 238, 239, 240, 241, 242, 243, 244, 245, 246, 247,\n",
       "        248, 249, 250, 251, 252, 253, 254, 255, 256, 257, 258, 259, 260,\n",
       "        261, 262, 263, 264, 265, 266, 267, 268, 269, 270, 271, 272, 273,\n",
       "        274, 275, 276, 277, 278, 279, 280, 281, 282, 283, 284, 285, 286,\n",
       "        287, 288, 289, 290, 291, 292, 293, 294, 295, 296, 297, 298, 299,\n",
       "        300, 301, 302, 303, 304, 305, 306, 307, 308, 309, 310, 311, 312,\n",
       "        313, 314, 315, 316, 317, 318, 319, 320, 321, 322, 323, 324, 325,\n",
       "        326, 327, 328, 329, 330, 331, 332, 333, 334, 335, 336, 337, 338,\n",
       "        339, 340, 341, 342, 343, 344, 345, 346, 347, 348, 349, 350, 351,\n",
       "        352, 353, 354, 355, 356, 357, 358, 359, 360, 361, 362, 363, 364,\n",
       "        365, 366, 367, 368, 369, 370, 371, 372, 373, 374, 375, 376, 377,\n",
       "        378, 379, 380, 381, 382, 383, 384, 385, 386, 387, 388, 389, 390,\n",
       "        391, 392, 393, 394, 395, 396, 397, 398, 399, 400, 401, 402, 403,\n",
       "        404, 405, 406, 407, 408, 409, 410, 411, 412, 413, 414, 415, 416,\n",
       "        417, 418, 419, 420, 421, 422, 423, 424, 425, 426, 427, 428, 429,\n",
       "        430, 431, 432, 433, 434, 435, 436, 437, 438, 439, 440, 441, 442,\n",
       "        443, 444, 445, 446, 447, 448, 449, 450, 451, 452, 453, 454, 455,\n",
       "        456, 457, 458, 459, 460, 461, 462, 463, 464, 465, 466, 467, 468,\n",
       "        469, 470, 471, 472, 473, 474, 475, 476, 477, 478, 479, 480, 481,\n",
       "        482, 483, 484, 485, 486, 487, 488, 489, 490, 491, 492, 493, 494,\n",
       "        495, 496, 497, 498, 499, 500]),\n",
       " 'gender': array([1, 1, 1, 1, 1, 1, 1, 1, 1, 0, 0, 1, 0, 1, 1, 0, 1, 1, 0, 0, 1, 0,\n",
       "        0, 1, 0, 0, 1, 0, 0, 1, 1, 1, 0, 1, 1, 0, 1, 1, 1, 1, 0, 1, 1, 0,\n",
       "        1, 0, 0, 0, 1, 0, 0, 0, 1, 1, 1, 1, 1, 1, 1, 0, 0, 0, 0, 1, 0, 0,\n",
       "        0, 0, 1, 1, 1, 0, 1, 0, 1, 1, 1, 1, 1, 0, 1, 0, 0, 0, 0, 0, 1, 1,\n",
       "        1, 1, 0, 1, 1, 0, 0, 1, 1, 0, 1, 1, 1, 1, 0, 0, 0, 1, 1, 1, 1, 1,\n",
       "        0, 1, 1, 0, 1, 0, 0, 0, 0, 0, 1, 0, 0, 1, 1, 0, 1, 1, 0, 0, 1, 0,\n",
       "        0, 1, 0, 0, 0, 0, 0, 1, 1, 0, 1, 0, 0, 0, 0, 0, 1, 1, 0, 1, 0, 1,\n",
       "        0, 1, 0, 0, 1, 1, 0, 1, 0, 1, 1, 0, 1, 1, 0, 1, 0, 0, 0, 0, 0, 1,\n",
       "        0, 0, 1, 1, 1, 0, 0, 0, 1, 0, 1, 0, 1, 0, 0, 0, 1, 1, 0, 0, 0, 1,\n",
       "        0, 0, 0, 0, 1, 1, 0, 0, 1, 1, 0, 1, 1, 0, 1, 1, 0, 0, 1, 0, 1, 0,\n",
       "        1, 0, 1, 1, 1, 0, 0, 1, 1, 0, 0, 0, 0, 0, 0, 1, 0, 1, 0, 0, 1, 1,\n",
       "        0, 1, 1, 1, 1, 0, 1, 0, 0, 0, 0, 1, 1, 0, 0, 0, 0, 1, 0, 1, 0, 0,\n",
       "        0, 0, 1, 1, 1, 0, 0, 1, 1, 0, 0, 1, 0, 0, 1, 0, 1, 0, 1, 0, 1, 1,\n",
       "        1, 1, 0, 0, 1, 0, 0, 0, 0, 0, 1, 1, 1, 1, 0, 0, 1, 0, 0, 1, 0, 1,\n",
       "        1, 0, 0, 1, 1, 0, 1, 1, 1, 0, 1, 0, 1, 0, 1, 0, 0, 0, 1, 1, 1, 0,\n",
       "        1, 0, 1, 0, 0, 0, 1, 1, 1, 0, 0, 1, 1, 1, 0, 0, 0, 0, 0, 1, 0, 0,\n",
       "        0, 0, 0, 1, 0, 0, 0, 1, 1, 1, 0, 1, 0, 0, 1, 0, 0, 0, 1, 0, 0, 1,\n",
       "        0, 0, 1, 0, 0, 0, 0, 0, 1, 1, 1, 1, 0, 0, 0, 0, 0, 1, 1, 0, 0, 0,\n",
       "        1, 0, 0, 0, 1, 0, 1, 1, 1, 1, 1, 1, 0, 0, 0, 1, 0, 1, 1, 1, 0, 1,\n",
       "        1, 0, 0, 1, 1, 0, 0, 0, 1, 0, 0, 0, 1, 0, 0, 0, 0, 0, 1, 1, 1, 0,\n",
       "        1, 1, 1, 0, 0, 1, 1, 0, 0, 1, 0, 1, 0, 1, 1, 0, 1, 1, 1, 0, 0, 0,\n",
       "        1, 0, 1, 1, 0, 0, 1, 1, 0, 0, 0, 1, 1, 1, 1, 1, 0, 0, 1, 1, 0, 0,\n",
       "        0, 0, 1, 0, 1, 0, 0, 0, 1, 1, 0, 1, 1, 0, 0, 1]),\n",
       " 'age': array([59, 28, 78, 75, 56, 48, 77, 42, 22, 63, 16, 23, 28, 63, 29, 38, 33,\n",
       "        72, 66, 17, 71, 38, 26, 75, 15, 67, 78, 37, 71, 50, 78, 50, 58, 58,\n",
       "        12, 19, 44, 11, 33, 47, 31, 35, 52, 64, 48, 38, 29, 50, 63, 29, 28,\n",
       "        75, 39, 62, 43, 31, 76, 15, 36, 19, 57, 79, 68, 68, 11, 38, 77, 74,\n",
       "        35, 19, 62, 68, 31, 60, 57, 30, 31, 39, 34, 37, 74, 54, 77, 16, 58,\n",
       "        18, 45, 10, 19, 45, 55, 41, 41, 15, 57, 47, 26, 36, 63, 59, 44, 34,\n",
       "        37, 24, 13, 36, 35, 28, 26, 52, 50, 51, 59, 49, 48, 32, 61, 56, 72,\n",
       "        78, 52, 57, 43, 49, 70, 59, 76, 71, 67, 42, 25, 57, 19, 47, 28, 45,\n",
       "        68, 72, 55, 12, 74, 17, 60, 15, 48, 69, 37, 63, 46, 18, 65, 68, 11,\n",
       "        70, 67, 69, 49, 45, 46, 27, 72, 31, 20, 67, 66, 13, 16, 70, 63, 77,\n",
       "        10, 64, 12, 47, 10, 47, 38, 14, 30, 76, 56, 44, 77, 78, 10, 77, 21,\n",
       "        69, 36, 65, 32, 34, 30, 70, 72, 61, 34, 64, 55, 41, 64, 14, 45, 58,\n",
       "        67, 48, 70, 18, 15, 44, 48, 31, 50, 14, 51, 76, 39, 66, 38, 46, 22,\n",
       "        41, 55, 32, 54, 26, 75, 15, 27, 31, 42, 39, 41, 51, 19, 45, 43, 37,\n",
       "        20, 48, 56, 28, 24, 37, 33, 18, 56, 42, 71, 28, 76, 49, 56, 74, 38,\n",
       "        59, 22, 10, 43, 57, 57, 58, 73, 70, 38, 48, 35, 26, 22, 78, 35, 58,\n",
       "        76, 16, 67, 58, 62, 74, 71, 26, 52, 34, 12, 38, 41, 35, 25, 34, 63,\n",
       "        37, 65, 74, 50, 60, 38, 28, 75, 50, 54, 24, 12, 20, 62, 55, 39, 66,\n",
       "        27, 60, 57, 75, 17, 31, 15, 66, 45, 66, 58, 54, 75, 54, 29, 73, 76,\n",
       "        12, 63, 73, 49, 68, 64, 71, 13, 69, 39, 11, 71, 58, 18, 40, 70, 57,\n",
       "        34, 45, 17, 67, 54, 71, 48, 67, 73, 53, 38, 68, 18, 15, 38, 67, 26,\n",
       "        25, 12, 30, 73, 45, 71, 51, 51, 70, 22, 20, 63, 25, 17, 68, 66, 49,\n",
       "        68, 11, 19, 53, 20, 11, 59, 21, 32, 27, 71, 71, 47, 76, 47, 76, 70,\n",
       "        10, 54, 37, 30, 22, 36, 16, 31, 62, 13, 32, 79, 42, 37, 17, 10, 46,\n",
       "        72, 31, 79, 30, 44, 14, 69, 55, 59, 57, 15, 65, 68, 38, 27, 11, 17,\n",
       "        63, 47, 57, 36, 29, 21, 52, 70, 40, 70, 76, 44, 24, 25, 22, 44, 68,\n",
       "        30, 63, 39, 57, 44, 47, 40, 33, 58, 41, 64, 67, 12, 78, 19, 34, 77,\n",
       "        70, 38, 28, 52, 75, 70, 52, 34, 29, 57, 33, 20, 64, 37, 78, 72, 68,\n",
       "        14, 60, 30, 21, 59, 13, 51, 47, 34, 23, 41, 20, 70, 27, 36, 64, 63,\n",
       "        30, 53, 14, 50, 68, 63, 31]),\n",
       " 'salary': array([4573447,  362091,  503157,  349265, 1484822, 1907402, 2049902,\n",
       "        1235371,  428821,  759987,  343877, 3445026, 1647419, 1020759,\n",
       "        1861369, 3348140, 2313697, 1567172, 1958997, 1518826, 4580967,\n",
       "        1529290, 2220711,  621244, 1499769, 2595389, 4739059,  588051,\n",
       "         925782,  539439, 3717597, 4709770, 1364134, 1994554, 4815700,\n",
       "        1047272, 3231603, 3885961, 3219734,  811943, 2337300, 4325389,\n",
       "        2721158, 3251478, 2538064, 4330207, 2098173, 4906546, 4806797,\n",
       "        3673258, 1590017, 3202641,  969446,  741593, 3751361, 1567130,\n",
       "        1634227, 2397905, 4326405, 4297079, 2687551, 4209070, 3498116,\n",
       "        2609907, 1906210, 4089284,  126616, 4242887, 1334215, 3938187,\n",
       "        4501207, 1138218,  452365, 2484775, 4209404,  461309, 4350167,\n",
       "        3418843, 2017577, 2692806, 1651899,  877635,  813340,  378495,\n",
       "        3380931,  931257, 1946357, 1979262, 3743327, 1423173, 1822199,\n",
       "        2799134, 3130486, 4080053,  800033, 4001403,  234445, 4697855,\n",
       "        1945700, 2766981, 3920671, 4187138,  971535, 1883611, 1842166,\n",
       "        1135408, 1561312, 2675606,  596440, 1571926, 1552137, 2973524,\n",
       "        2842455, 2369409, 1803820,  395599, 1657009,  697904, 3857454,\n",
       "         216841,  269934, 4022750, 1235270,  337068, 3739688, 4249287,\n",
       "        1704243,  951161, 4872945,  805356, 1738846, 4330987, 3359819,\n",
       "        1559410,  424934, 1902466, 3921615, 2482865,  897583,  564310,\n",
       "        3814755,  657242, 3227640,  868223, 4403677, 4198535, 4853292,\n",
       "        1272304, 1743909, 2099117, 1019134, 1955797, 3029735, 4736440,\n",
       "         611162, 2670725, 3511134, 2526277, 3300450, 2379042, 1417621,\n",
       "        3737967, 2467893, 1540351, 1998917,  839574, 4171495,  425437,\n",
       "        1916760, 2191013, 3730623, 3781890,  972834, 4737370,  719696,\n",
       "        4172250, 4212732, 4414366, 1132499, 3920888, 3076030, 2431348,\n",
       "        4501913, 2112755, 4577310, 2906284, 1950924, 2986569, 3450448,\n",
       "        1714099, 1241452, 1330796,  213936, 4310583, 3349479, 3612305,\n",
       "        4380428, 2012493, 2533351, 2289063, 3082202, 2919182, 1093978,\n",
       "         547244, 2573188, 4532027, 3579000,  938927,  182806, 4125345,\n",
       "        2929045, 1378673, 4215741, 3557521, 4784013, 4731889, 3477932,\n",
       "        2554698, 2379023, 2538710,  598512, 3600967,  867442,  575278,\n",
       "        2030440,  479593,  594955, 1620180, 4940349, 1726528, 3014611,\n",
       "        2887976, 1408014, 2347680, 4762315, 2921839,  398783, 3476910,\n",
       "        3702571, 1237613, 3979928, 3955288, 2215226, 1440683, 3730400,\n",
       "        2954119, 2773705, 3697170, 3405610,  553222, 2188618, 4932094,\n",
       "        2699327, 4500852, 4745287, 2693157, 2897909, 3049311,  317314,\n",
       "        2735122, 3566032,  848692, 2482962, 3566689, 2176775, 1714694,\n",
       "         681904, 4565669, 3388210, 3981143, 3246779, 2045537, 2141381,\n",
       "         178116,  484370, 2122643, 3474659, 3552629,  619385, 3628880,\n",
       "        1672138, 2117337, 2423724, 2328531, 1729753,  326256,  520539,\n",
       "        3473307,  650242, 3597831, 2948439, 4820553, 2622919, 2121835,\n",
       "         899687, 3949091, 3631674, 2520872, 3027503,  450679, 4924574,\n",
       "        2526105, 4911671, 1204381, 2116328, 4532787,  370146, 4401828,\n",
       "         644026, 4042863, 4408080, 4474798, 4572089, 1490254,  368449,\n",
       "        2950774, 4530675, 4275318,  746275,  224591,  739104, 2698133,\n",
       "        4561213, 3397154, 1434649, 1308468, 1260152, 3841104, 1083667,\n",
       "        3323253, 2465885,  980096, 3690437, 2301340, 2814766, 3024537,\n",
       "        4884377, 1692173, 1727059, 1174477, 1573300,  397584, 1505802,\n",
       "         992015, 4875275, 2583502, 2068067, 1751348, 2971259,  954741,\n",
       "        3452214, 2123615, 3110087, 4744081,  241449, 2775032, 4590224,\n",
       "        3118439, 1728662,  235370,  956636, 3069791, 4132516, 4742681,\n",
       "        3044236, 4786134, 1016004, 1693786,  527244, 4798981, 3655912,\n",
       "        4813199, 1375393, 2614368, 2189319, 2309821,  892330, 4574843,\n",
       "        1842955,  366150, 2886905, 1945964,  589415, 3144287, 3603548,\n",
       "         746012, 1735765, 2685181, 2369798, 4281726, 3539289, 2105534,\n",
       "         232659, 2698475,  739872, 3955798, 3059470, 1036320, 3986912,\n",
       "        4561902, 1747824, 1250997, 3483973, 4225903,  532829, 4511054,\n",
       "        4414896,  334000, 2977429,  422137, 3123504, 2705221, 4020367,\n",
       "        3463244, 4673957, 2400269, 4531373,  666510, 4081383, 1390894,\n",
       "         808092, 1197996,  699792, 1675326, 2468756, 4917911, 4026690,\n",
       "        4958939,  768629, 1802457, 1271248, 3704886, 1483640,  613953,\n",
       "        4338340, 4663653,  785503,  522641, 2023217,  437283, 1678232,\n",
       "        4877421,  491180, 3799243, 4928022, 2597934,  678110, 4318346,\n",
       "        4702606, 2810864, 4443699, 3810879, 3235609, 1035783, 2259932,\n",
       "        3006492, 1865520, 3634150, 1841888, 3346434,  222019, 4666156,\n",
       "        1865317,  279001, 2992927, 3345988,  784494, 3227022, 3948189,\n",
       "         693731, 2516826, 4954491, 4390447, 3963741,  244771, 1108923,\n",
       "        3098111, 1920908, 4954977, 1817534,  211362, 4016533, 2136503,\n",
       "        4470602, 2780990, 4767592, 2462854, 2509409, 3150999, 1839122,\n",
       "        3151622, 2886281,  875292, 4027352, 2433647, 3823234, 2010217,\n",
       "        1700741,  289073,  459281]),\n",
       " 'purchased': array([0, 0, 0, 0, 1, 1, 0, 1, 0, 0, 0, 1, 1, 1, 1, 0, 1, 1, 1, 0, 0, 1,\n",
       "        1, 1, 1, 0, 1, 1, 1, 0, 0, 1, 1, 1, 1, 1, 0, 0, 0, 1, 0, 0, 0, 1,\n",
       "        1, 0, 1, 0, 0, 0, 0, 1, 1, 1, 1, 0, 1, 0, 1, 1, 1, 0, 0, 0, 0, 1,\n",
       "        0, 0, 1, 1, 0, 1, 0, 1, 0, 0, 0, 0, 0, 1, 0, 0, 0, 0, 0, 1, 1, 0,\n",
       "        1, 0, 1, 1, 0, 1, 1, 0, 0, 1, 1, 1, 0, 1, 1, 1, 0, 0, 0, 0, 1, 0,\n",
       "        1, 1, 1, 1, 0, 0, 0, 0, 0, 1, 0, 0, 0, 0, 1, 1, 1, 1, 1, 0, 1, 1,\n",
       "        1, 0, 0, 1, 0, 0, 1, 0, 0, 0, 1, 1, 1, 0, 1, 0, 0, 0, 1, 1, 1, 1,\n",
       "        0, 1, 0, 1, 1, 1, 0, 0, 0, 0, 0, 1, 0, 0, 0, 0, 1, 0, 1, 1, 1, 0,\n",
       "        1, 0, 0, 0, 0, 0, 1, 1, 0, 1, 0, 1, 1, 1, 1, 1, 0, 0, 1, 0, 1, 0,\n",
       "        1, 1, 1, 0, 0, 1, 1, 0, 0, 0, 0, 0, 1, 0, 1, 1, 0, 0, 1, 0, 1, 0,\n",
       "        0, 0, 1, 0, 1, 0, 1, 0, 1, 1, 1, 1, 1, 1, 0, 1, 1, 1, 0, 0, 0, 1,\n",
       "        0, 0, 1, 1, 0, 1, 1, 1, 1, 0, 1, 0, 0, 0, 0, 1, 1, 1, 0, 0, 0, 1,\n",
       "        0, 1, 1, 1, 1, 0, 1, 0, 1, 0, 0, 1, 1, 1, 0, 1, 1, 0, 1, 0, 1, 0,\n",
       "        0, 1, 0, 1, 1, 0, 1, 0, 0, 0, 0, 0, 0, 0, 0, 1, 1, 0, 1, 1, 1, 1,\n",
       "        1, 1, 0, 1, 1, 1, 1, 0, 0, 0, 0, 1, 0, 0, 0, 0, 1, 0, 1, 0, 1, 1,\n",
       "        0, 0, 0, 0, 1, 1, 0, 0, 1, 0, 1, 0, 1, 1, 1, 1, 1, 0, 1, 0, 1, 1,\n",
       "        0, 0, 0, 0, 1, 0, 1, 0, 0, 1, 1, 0, 1, 1, 1, 1, 1, 1, 1, 1, 0, 1,\n",
       "        0, 1, 1, 1, 1, 0, 0, 1, 0, 1, 1, 0, 0, 1, 1, 0, 1, 0, 1, 1, 0, 0,\n",
       "        0, 1, 1, 1, 1, 0, 1, 1, 1, 0, 1, 1, 0, 1, 1, 0, 1, 1, 1, 0, 1, 1,\n",
       "        0, 0, 1, 1, 1, 1, 0, 1, 0, 0, 1, 1, 0, 0, 1, 0, 1, 1, 0, 0, 1, 0,\n",
       "        1, 1, 1, 0, 1, 1, 1, 1, 1, 1, 1, 1, 1, 1, 1, 0, 1, 1, 1, 0, 1, 0,\n",
       "        1, 1, 0, 1, 0, 0, 1, 1, 1, 1, 0, 0, 1, 0, 0, 1, 0, 0, 1, 0, 1, 0,\n",
       "        1, 0, 0, 1, 1, 1, 1, 0, 0, 0, 1, 0, 0, 1, 1, 0])}"
      ]
     },
     "execution_count": 26,
     "metadata": {},
     "output_type": "execute_result"
    }
   ],
   "source": [
    "userdata"
   ]
  },
  {
   "cell_type": "code",
   "execution_count": 27,
   "id": "8678ab50",
   "metadata": {},
   "outputs": [],
   "source": [
    "user=pd.DataFrame(userdata)"
   ]
  },
  {
   "cell_type": "code",
   "execution_count": 28,
   "id": "6fc4a410",
   "metadata": {},
   "outputs": [],
   "source": [
    "X=user[['gender','age','salary']]\n",
    "Y=user['purchased']"
   ]
  },
  {
   "cell_type": "code",
   "execution_count": 29,
   "id": "2902e118",
   "metadata": {},
   "outputs": [
    {
     "data": {
      "text/html": [
       "<div>\n",
       "<style scoped>\n",
       "    .dataframe tbody tr th:only-of-type {\n",
       "        vertical-align: middle;\n",
       "    }\n",
       "\n",
       "    .dataframe tbody tr th {\n",
       "        vertical-align: top;\n",
       "    }\n",
       "\n",
       "    .dataframe thead th {\n",
       "        text-align: right;\n",
       "    }\n",
       "</style>\n",
       "<table border=\"1\" class=\"dataframe\">\n",
       "  <thead>\n",
       "    <tr style=\"text-align: right;\">\n",
       "      <th></th>\n",
       "      <th>gender</th>\n",
       "      <th>age</th>\n",
       "      <th>salary</th>\n",
       "    </tr>\n",
       "  </thead>\n",
       "  <tbody>\n",
       "    <tr>\n",
       "      <th>0</th>\n",
       "      <td>1</td>\n",
       "      <td>59</td>\n",
       "      <td>4573447</td>\n",
       "    </tr>\n",
       "    <tr>\n",
       "      <th>1</th>\n",
       "      <td>1</td>\n",
       "      <td>28</td>\n",
       "      <td>362091</td>\n",
       "    </tr>\n",
       "    <tr>\n",
       "      <th>2</th>\n",
       "      <td>1</td>\n",
       "      <td>78</td>\n",
       "      <td>503157</td>\n",
       "    </tr>\n",
       "    <tr>\n",
       "      <th>3</th>\n",
       "      <td>1</td>\n",
       "      <td>75</td>\n",
       "      <td>349265</td>\n",
       "    </tr>\n",
       "    <tr>\n",
       "      <th>4</th>\n",
       "      <td>1</td>\n",
       "      <td>56</td>\n",
       "      <td>1484822</td>\n",
       "    </tr>\n",
       "    <tr>\n",
       "      <th>...</th>\n",
       "      <td>...</td>\n",
       "      <td>...</td>\n",
       "      <td>...</td>\n",
       "    </tr>\n",
       "    <tr>\n",
       "      <th>495</th>\n",
       "      <td>1</td>\n",
       "      <td>14</td>\n",
       "      <td>3823234</td>\n",
       "    </tr>\n",
       "    <tr>\n",
       "      <th>496</th>\n",
       "      <td>1</td>\n",
       "      <td>50</td>\n",
       "      <td>2010217</td>\n",
       "    </tr>\n",
       "    <tr>\n",
       "      <th>497</th>\n",
       "      <td>0</td>\n",
       "      <td>68</td>\n",
       "      <td>1700741</td>\n",
       "    </tr>\n",
       "    <tr>\n",
       "      <th>498</th>\n",
       "      <td>0</td>\n",
       "      <td>63</td>\n",
       "      <td>289073</td>\n",
       "    </tr>\n",
       "    <tr>\n",
       "      <th>499</th>\n",
       "      <td>1</td>\n",
       "      <td>31</td>\n",
       "      <td>459281</td>\n",
       "    </tr>\n",
       "  </tbody>\n",
       "</table>\n",
       "<p>500 rows × 3 columns</p>\n",
       "</div>"
      ],
      "text/plain": [
       "     gender  age   salary\n",
       "0         1   59  4573447\n",
       "1         1   28   362091\n",
       "2         1   78   503157\n",
       "3         1   75   349265\n",
       "4         1   56  1484822\n",
       "..      ...  ...      ...\n",
       "495       1   14  3823234\n",
       "496       1   50  2010217\n",
       "497       0   68  1700741\n",
       "498       0   63   289073\n",
       "499       1   31   459281\n",
       "\n",
       "[500 rows x 3 columns]"
      ]
     },
     "execution_count": 29,
     "metadata": {},
     "output_type": "execute_result"
    }
   ],
   "source": [
    "X"
   ]
  },
  {
   "cell_type": "code",
   "execution_count": 30,
   "id": "5ad95697",
   "metadata": {},
   "outputs": [
    {
     "data": {
      "text/plain": [
       "0      0\n",
       "1      0\n",
       "2      0\n",
       "3      0\n",
       "4      1\n",
       "      ..\n",
       "495    0\n",
       "496    0\n",
       "497    1\n",
       "498    1\n",
       "499    0\n",
       "Name: purchased, Length: 500, dtype: int32"
      ]
     },
     "execution_count": 30,
     "metadata": {},
     "output_type": "execute_result"
    }
   ],
   "source": [
    "Y"
   ]
  },
  {
   "cell_type": "code",
   "execution_count": 40,
   "id": "a5950c11",
   "metadata": {},
   "outputs": [],
   "source": [
    "X_train,X_test,Y_train,Y_test=train_test_split(X,Y,test_size=0.25,random_state=0);"
   ]
  },
  {
   "cell_type": "code",
   "execution_count": 41,
   "id": "fa97046d",
   "metadata": {},
   "outputs": [],
   "source": [
    "logistic_regression=LogisticRegression()\n",
    "logistic_regression.fit(X_train,Y_train)\n",
    "Y_pred=logistic_regression.predict(X_test)"
   ]
  },
  {
   "cell_type": "code",
   "execution_count": 42,
   "id": "34c3f401",
   "metadata": {},
   "outputs": [
    {
     "data": {
      "text/plain": [
       "array([1, 1, 1, 1, 1, 1, 1, 1, 1, 1, 1, 1, 1, 1, 1, 1, 1, 1, 1, 1, 1, 1,\n",
       "       1, 1, 1, 1, 1, 1, 1, 1, 1, 1, 1, 1, 1, 1, 1, 1, 1, 1, 1, 1, 1, 1,\n",
       "       1, 1, 1, 1, 1, 1, 1, 1, 1, 1, 1, 1, 1, 1, 1, 1, 1, 1, 1, 1, 1, 1,\n",
       "       1, 1, 1, 1, 1, 1, 1, 1, 1, 1, 1, 1, 1, 1, 1, 1, 1, 1, 1, 1, 1, 1,\n",
       "       1, 1, 1, 1, 1, 1, 1, 1, 1, 1, 1, 1, 1, 1, 1, 1, 1, 1, 1, 1, 1, 1,\n",
       "       1, 1, 1, 1, 1, 1, 1, 1, 1, 1, 1, 1, 1, 1, 1])"
      ]
     },
     "execution_count": 42,
     "metadata": {},
     "output_type": "execute_result"
    }
   ],
   "source": [
    "Y_pred"
   ]
  },
  {
   "cell_type": "code",
   "execution_count": 43,
   "id": "0a5d3356",
   "metadata": {},
   "outputs": [
    {
     "data": {
      "text/plain": [
       "90     1\n",
       "254    0\n",
       "283    0\n",
       "445    1\n",
       "461    0\n",
       "      ..\n",
       "430    0\n",
       "49     0\n",
       "134    0\n",
       "365    1\n",
       "413    1\n",
       "Name: purchased, Length: 125, dtype: int32"
      ]
     },
     "execution_count": 43,
     "metadata": {},
     "output_type": "execute_result"
    }
   ],
   "source": [
    "Y_test"
   ]
  },
  {
   "cell_type": "code",
   "execution_count": 1,
   "id": "0ff8318f",
   "metadata": {},
   "outputs": [],
   "source": [
    "##Question 3\n",
    "import pandas as pd\n",
    "import numpy as np\n",
    "import matplotlib.pyplot as plt\n",
    "from sklearn.model_selection import train_test_split\n",
    "from sklearn.linear_model import LogisticRegression\n",
    "from sklearn.metrics import r2_score,mean_squared_error"
   ]
  },
  {
   "cell_type": "code",
   "execution_count": 3,
   "id": "9923d864",
   "metadata": {},
   "outputs": [],
   "source": [
    "np.random.seed(42)\n",
    "data = {\n",
    "    'userID':np.arange(1,501),\n",
    "    'gender':np.random.randint(2, size=500),\n",
    "    'age':np.random.rand(500)*100,\n",
    "    'istimated_salary':np.random.randint(10000,500000,size=500),\n",
    "    'Purchased':np.random.randint(2, size=500),\n",
    "}\n",
    "sales_df=pd.DataFrame(data)"
   ]
  },
  {
   "cell_type": "code",
   "execution_count": 4,
   "id": "8333fe4c",
   "metadata": {},
   "outputs": [],
   "source": [
    "x=sales_df[['gender','age','istimated_salary']];\n",
    "y=sales_df['Purchased'];"
   ]
  },
  {
   "cell_type": "code",
   "execution_count": 5,
   "id": "6c861595",
   "metadata": {},
   "outputs": [
    {
     "data": {
      "text/html": [
       "<div>\n",
       "<style scoped>\n",
       "    .dataframe tbody tr th:only-of-type {\n",
       "        vertical-align: middle;\n",
       "    }\n",
       "\n",
       "    .dataframe tbody tr th {\n",
       "        vertical-align: top;\n",
       "    }\n",
       "\n",
       "    .dataframe thead th {\n",
       "        text-align: right;\n",
       "    }\n",
       "</style>\n",
       "<table border=\"1\" class=\"dataframe\">\n",
       "  <thead>\n",
       "    <tr style=\"text-align: right;\">\n",
       "      <th></th>\n",
       "      <th>gender</th>\n",
       "      <th>age</th>\n",
       "      <th>istimated_salary</th>\n",
       "    </tr>\n",
       "  </thead>\n",
       "  <tbody>\n",
       "    <tr>\n",
       "      <th>0</th>\n",
       "      <td>0</td>\n",
       "      <td>29.444889</td>\n",
       "      <td>339650</td>\n",
       "    </tr>\n",
       "    <tr>\n",
       "      <th>1</th>\n",
       "      <td>1</td>\n",
       "      <td>38.509773</td>\n",
       "      <td>51157</td>\n",
       "    </tr>\n",
       "    <tr>\n",
       "      <th>2</th>\n",
       "      <td>0</td>\n",
       "      <td>85.113667</td>\n",
       "      <td>64917</td>\n",
       "    </tr>\n",
       "    <tr>\n",
       "      <th>3</th>\n",
       "      <td>0</td>\n",
       "      <td>31.692201</td>\n",
       "      <td>233810</td>\n",
       "    </tr>\n",
       "    <tr>\n",
       "      <th>4</th>\n",
       "      <td>0</td>\n",
       "      <td>16.949275</td>\n",
       "      <td>106646</td>\n",
       "    </tr>\n",
       "    <tr>\n",
       "      <th>...</th>\n",
       "      <td>...</td>\n",
       "      <td>...</td>\n",
       "      <td>...</td>\n",
       "    </tr>\n",
       "    <tr>\n",
       "      <th>495</th>\n",
       "      <td>0</td>\n",
       "      <td>89.957457</td>\n",
       "      <td>149892</td>\n",
       "    </tr>\n",
       "    <tr>\n",
       "      <th>496</th>\n",
       "      <td>0</td>\n",
       "      <td>38.389122</td>\n",
       "      <td>296214</td>\n",
       "    </tr>\n",
       "    <tr>\n",
       "      <th>497</th>\n",
       "      <td>1</td>\n",
       "      <td>54.355286</td>\n",
       "      <td>472984</td>\n",
       "    </tr>\n",
       "    <tr>\n",
       "      <th>498</th>\n",
       "      <td>0</td>\n",
       "      <td>90.647211</td>\n",
       "      <td>414338</td>\n",
       "    </tr>\n",
       "    <tr>\n",
       "      <th>499</th>\n",
       "      <td>1</td>\n",
       "      <td>62.423800</td>\n",
       "      <td>352703</td>\n",
       "    </tr>\n",
       "  </tbody>\n",
       "</table>\n",
       "<p>500 rows × 3 columns</p>\n",
       "</div>"
      ],
      "text/plain": [
       "     gender        age  istimated_salary\n",
       "0         0  29.444889            339650\n",
       "1         1  38.509773             51157\n",
       "2         0  85.113667             64917\n",
       "3         0  31.692201            233810\n",
       "4         0  16.949275            106646\n",
       "..      ...        ...               ...\n",
       "495       0  89.957457            149892\n",
       "496       0  38.389122            296214\n",
       "497       1  54.355286            472984\n",
       "498       0  90.647211            414338\n",
       "499       1  62.423800            352703\n",
       "\n",
       "[500 rows x 3 columns]"
      ]
     },
     "execution_count": 5,
     "metadata": {},
     "output_type": "execute_result"
    }
   ],
   "source": [
    "x"
   ]
  },
  {
   "cell_type": "code",
   "execution_count": 6,
   "id": "d726303e",
   "metadata": {},
   "outputs": [
    {
     "data": {
      "text/plain": [
       "0      1\n",
       "1      1\n",
       "2      0\n",
       "3      0\n",
       "4      0\n",
       "      ..\n",
       "495    0\n",
       "496    0\n",
       "497    0\n",
       "498    1\n",
       "499    1\n",
       "Name: Purchased, Length: 500, dtype: int32"
      ]
     },
     "execution_count": 6,
     "metadata": {},
     "output_type": "execute_result"
    }
   ],
   "source": [
    "y"
   ]
  },
  {
   "cell_type": "code",
   "execution_count": 7,
   "id": "28ff7936",
   "metadata": {},
   "outputs": [],
   "source": [
    "x_train,x_test,y_train,y_test=train_test_split(x,y,test_size=0.3,random_state=42)"
   ]
  },
  {
   "cell_type": "code",
   "execution_count": 8,
   "id": "a0ae42e6",
   "metadata": {},
   "outputs": [
    {
     "data": {
      "text/html": [
       "<div>\n",
       "<style scoped>\n",
       "    .dataframe tbody tr th:only-of-type {\n",
       "        vertical-align: middle;\n",
       "    }\n",
       "\n",
       "    .dataframe tbody tr th {\n",
       "        vertical-align: top;\n",
       "    }\n",
       "\n",
       "    .dataframe thead th {\n",
       "        text-align: right;\n",
       "    }\n",
       "</style>\n",
       "<table border=\"1\" class=\"dataframe\">\n",
       "  <thead>\n",
       "    <tr style=\"text-align: right;\">\n",
       "      <th></th>\n",
       "      <th>gender</th>\n",
       "      <th>age</th>\n",
       "      <th>istimated_salary</th>\n",
       "    </tr>\n",
       "  </thead>\n",
       "  <tbody>\n",
       "    <tr>\n",
       "      <th>5</th>\n",
       "      <td>1</td>\n",
       "      <td>55.680126</td>\n",
       "      <td>355266</td>\n",
       "    </tr>\n",
       "    <tr>\n",
       "      <th>116</th>\n",
       "      <td>0</td>\n",
       "      <td>96.119056</td>\n",
       "      <td>194245</td>\n",
       "    </tr>\n",
       "    <tr>\n",
       "      <th>45</th>\n",
       "      <td>1</td>\n",
       "      <td>52.224326</td>\n",
       "      <td>401182</td>\n",
       "    </tr>\n",
       "    <tr>\n",
       "      <th>16</th>\n",
       "      <td>1</td>\n",
       "      <td>69.701574</td>\n",
       "      <td>141994</td>\n",
       "    </tr>\n",
       "    <tr>\n",
       "      <th>462</th>\n",
       "      <td>1</td>\n",
       "      <td>47.157619</td>\n",
       "      <td>100327</td>\n",
       "    </tr>\n",
       "    <tr>\n",
       "      <th>...</th>\n",
       "      <td>...</td>\n",
       "      <td>...</td>\n",
       "      <td>...</td>\n",
       "    </tr>\n",
       "    <tr>\n",
       "      <th>106</th>\n",
       "      <td>1</td>\n",
       "      <td>2.651131</td>\n",
       "      <td>44560</td>\n",
       "    </tr>\n",
       "    <tr>\n",
       "      <th>270</th>\n",
       "      <td>1</td>\n",
       "      <td>59.413072</td>\n",
       "      <td>264726</td>\n",
       "    </tr>\n",
       "    <tr>\n",
       "      <th>348</th>\n",
       "      <td>1</td>\n",
       "      <td>19.228902</td>\n",
       "      <td>167729</td>\n",
       "    </tr>\n",
       "    <tr>\n",
       "      <th>435</th>\n",
       "      <td>1</td>\n",
       "      <td>55.676289</td>\n",
       "      <td>285494</td>\n",
       "    </tr>\n",
       "    <tr>\n",
       "      <th>102</th>\n",
       "      <td>1</td>\n",
       "      <td>65.869363</td>\n",
       "      <td>472120</td>\n",
       "    </tr>\n",
       "  </tbody>\n",
       "</table>\n",
       "<p>350 rows × 3 columns</p>\n",
       "</div>"
      ],
      "text/plain": [
       "     gender        age  istimated_salary\n",
       "5         1  55.680126            355266\n",
       "116       0  96.119056            194245\n",
       "45        1  52.224326            401182\n",
       "16        1  69.701574            141994\n",
       "462       1  47.157619            100327\n",
       "..      ...        ...               ...\n",
       "106       1   2.651131             44560\n",
       "270       1  59.413072            264726\n",
       "348       1  19.228902            167729\n",
       "435       1  55.676289            285494\n",
       "102       1  65.869363            472120\n",
       "\n",
       "[350 rows x 3 columns]"
      ]
     },
     "execution_count": 8,
     "metadata": {},
     "output_type": "execute_result"
    }
   ],
   "source": [
    "x_train"
   ]
  },
  {
   "cell_type": "code",
   "execution_count": 9,
   "id": "4d013a9b",
   "metadata": {},
   "outputs": [
    {
     "name": "stdout",
     "output_type": "stream",
     "text": [
      "150\n"
     ]
    }
   ],
   "source": [
    "x_test\n",
    "print(x_test.shape[0])"
   ]
  },
  {
   "cell_type": "code",
   "execution_count": 10,
   "id": "edc50043",
   "metadata": {},
   "outputs": [
    {
     "data": {
      "text/plain": [
       "5      1\n",
       "116    0\n",
       "45     1\n",
       "16     1\n",
       "462    1\n",
       "      ..\n",
       "106    0\n",
       "270    0\n",
       "348    0\n",
       "435    0\n",
       "102    0\n",
       "Name: Purchased, Length: 350, dtype: int32"
      ]
     },
     "execution_count": 10,
     "metadata": {},
     "output_type": "execute_result"
    }
   ],
   "source": [
    "y_train"
   ]
  },
  {
   "cell_type": "code",
   "execution_count": 11,
   "id": "0f4b30ee",
   "metadata": {},
   "outputs": [
    {
     "name": "stdout",
     "output_type": "stream",
     "text": [
      "150\n"
     ]
    }
   ],
   "source": [
    "y_test\n",
    "print(y_test.shape[0])"
   ]
  },
  {
   "cell_type": "code",
   "execution_count": 12,
   "id": "9207141e",
   "metadata": {},
   "outputs": [],
   "source": [
    "resgression=LogisticRegression()"
   ]
  },
  {
   "cell_type": "code",
   "execution_count": 13,
   "id": "2096d9f4",
   "metadata": {},
   "outputs": [
    {
     "data": {
      "text/plain": [
       "LogisticRegression()"
      ]
     },
     "execution_count": 13,
     "metadata": {},
     "output_type": "execute_result"
    }
   ],
   "source": [
    "resgression.fit(x_train,y_train)"
   ]
  },
  {
   "cell_type": "code",
   "execution_count": 14,
   "id": "01f85cb3",
   "metadata": {},
   "outputs": [],
   "source": [
    "y_pred=resgression.predict(x_test)"
   ]
  },
  {
   "cell_type": "code",
   "execution_count": 15,
   "id": "aa21cb40",
   "metadata": {},
   "outputs": [
    {
     "data": {
      "text/plain": [
       "array([1, 1, 1, 1, 0, 0, 1, 0, 1, 1, 0, 1, 0, 0, 0, 1, 1, 1, 1, 1, 1, 0,\n",
       "       1, 1, 1, 1, 0, 1, 1, 1, 1, 0, 1, 1, 1, 1, 1, 0, 0, 1, 1, 1, 1, 1,\n",
       "       0, 1, 0, 1, 0, 1, 1, 0, 1, 0, 1, 1, 1, 1, 1, 0, 0, 1, 0, 1, 1, 1,\n",
       "       0, 1, 1, 0, 0, 1, 0, 1, 0, 1, 1, 0, 1, 1, 0, 0, 1, 0, 1, 1, 0, 0,\n",
       "       0, 0, 1, 0, 0, 1, 0, 1, 1, 1, 1, 1, 1, 1, 0, 1, 1, 1, 1, 0, 1, 1,\n",
       "       0, 1, 0, 1, 1, 1, 0, 0, 1, 1, 0, 1, 1, 1, 1, 1, 0, 1, 1, 0, 1, 0,\n",
       "       1, 0, 1, 0, 1, 1, 1, 0, 1, 0, 0, 0, 1, 0, 1, 0, 0, 0])"
      ]
     },
     "execution_count": 15,
     "metadata": {},
     "output_type": "execute_result"
    }
   ],
   "source": [
    "y_pred"
   ]
  },
  {
   "cell_type": "code",
   "execution_count": 16,
   "id": "6e02961e",
   "metadata": {},
   "outputs": [
    {
     "name": "stdout",
     "output_type": "stream",
     "text": [
      "accuracy:  0.4866666666666667\n"
     ]
    },
    {
     "data": {
      "image/png": "[encoded data removed]",
      "text/plain": [
       "<Figure size 640x480 with 2 Axes>"
      ]
     },
     "metadata": {},
     "output_type": "display_data"
    }
   ],
   "source": [
    "import seaborn as sn\n",
    "from sklearn import metrics\n",
    "confusion_matrix=pd.crosstab(y_test,y_pred,rownames=['flat budget'],colnames=['predicted'])\n",
    "sn.heatmap(confusion_matrix,annot=True)\n",
    "print('accuracy: ',metrics.accuracy_score(y_test,y_pred))\n",
    "plt.show()"
   ]
  },
  {
   "cell_type": "code",
   "execution_count": null,
   "id": "fcc48c11",
   "metadata": {},
   "outputs": [],
   "source": []
  }
 ],
 "metadata": {
  "kernelspec": {
   "display_name": "Python 3 (ipykernel)",
   "language": "python",
   "name": "python3"
  },
  "language_info": {
   "codemirror_mode": {
    "name": "ipython",
    "version": 3
   },
   "file_extension": ".py",
   "mimetype": "text/x-python",
   "name": "python",
   "nbconvert_exporter": "python",
   "pygments_lexer": "ipython3",
   "version": "3.11.7"
  }
 },
 "nbformat": 4,
 "nbformat_minor": 5
}
